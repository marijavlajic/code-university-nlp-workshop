{
 "cells": [
  {
   "cell_type": "code",
   "execution_count": 19,
   "metadata": {
    "collapsed": false
   },
   "outputs": [],
   "source": [
    "import re\n",
    "import pandas as pd\n",
    "import numpy as np\n",
    "import gensim\n",
    "from gensim import models, corpora\n",
    "from nltk import word_tokenize\n",
    "from nltk.corpus import stopwords\n",
    "from nltk.stem import PorterStemmer, WordNetLemmatizer"
   ]
  },
  {
   "cell_type": "code",
   "execution_count": 21,
   "metadata": {
    "collapsed": true
   },
   "outputs": [],
   "source": [
    "def preprocess_text(text):\n",
    "    tokenized_text = word_tokenize(text.lower())\n",
    "# Do we want to do any other preprocessing?\n",
    "    preprocessed_text = tokenized_text\n",
    "    return preprocessed_text"
   ]
  },
  {
   "cell_type": "code",
   "execution_count": 23,
   "metadata": {
    "collapsed": true
   },
   "outputs": [],
   "source": [
    "def run_lda_model(data):\n",
    "    preprocessed_data = [preprocess_text(plot) for plot in data]\n",
    "    dictionary = corpora.Dictionary(preprocessed_data)\n",
    "    corpus = [dictionary.doc2bow(text) for text in preprocessed_data]\n",
    "    lda_model = models.LdaModel(corpus = corpus, num_topics = 10, id2word = dictionary, random_state = 42)\n",
    "    for idx, topic in lda_model.print_topics(-1):\n",
    "        print(topic)\n",
    "    return lda_model"
   ]
  },
  {
   "cell_type": "markdown",
   "metadata": {},
   "source": [
    "Load the data from the Wikipedia movie plots dataset and have a look at what's in the dataset."
   ]
  },
  {
   "cell_type": "code",
   "execution_count": 4,
   "metadata": {
    "collapsed": true
   },
   "outputs": [],
   "source": [
    "data = pd.read_csv('wiki_movie_plots.csv')"
   ]
  },
  {
   "cell_type": "code",
   "execution_count": 5,
   "metadata": {
    "collapsed": false
   },
   "outputs": [
    {
     "data": {
      "text/html": [
       "<div>\n",
       "<table border=\"1\" class=\"dataframe\">\n",
       "  <thead>\n",
       "    <tr style=\"text-align: right;\">\n",
       "      <th></th>\n",
       "      <th>Release Year</th>\n",
       "      <th>Title</th>\n",
       "      <th>Origin/Ethnicity</th>\n",
       "      <th>Director</th>\n",
       "      <th>Cast</th>\n",
       "      <th>Genre</th>\n",
       "      <th>Wiki Page</th>\n",
       "      <th>Plot</th>\n",
       "    </tr>\n",
       "  </thead>\n",
       "  <tbody>\n",
       "    <tr>\n",
       "      <th>0</th>\n",
       "      <td>1901</td>\n",
       "      <td>Kansas Saloon Smashers</td>\n",
       "      <td>American</td>\n",
       "      <td>Unknown</td>\n",
       "      <td>NaN</td>\n",
       "      <td>unknown</td>\n",
       "      <td>https://en.wikipedia.org/wiki/Kansas_Saloon_Sm...</td>\n",
       "      <td>A bartender is working at a saloon, serving dr...</td>\n",
       "    </tr>\n",
       "    <tr>\n",
       "      <th>1</th>\n",
       "      <td>1901</td>\n",
       "      <td>Love by the Light of the Moon</td>\n",
       "      <td>American</td>\n",
       "      <td>Unknown</td>\n",
       "      <td>NaN</td>\n",
       "      <td>unknown</td>\n",
       "      <td>https://en.wikipedia.org/wiki/Love_by_the_Ligh...</td>\n",
       "      <td>The moon, painted with a smiling face hangs ov...</td>\n",
       "    </tr>\n",
       "    <tr>\n",
       "      <th>2</th>\n",
       "      <td>1901</td>\n",
       "      <td>The Martyred Presidents</td>\n",
       "      <td>American</td>\n",
       "      <td>Unknown</td>\n",
       "      <td>NaN</td>\n",
       "      <td>unknown</td>\n",
       "      <td>https://en.wikipedia.org/wiki/The_Martyred_Pre...</td>\n",
       "      <td>The film, just over a minute long, is composed...</td>\n",
       "    </tr>\n",
       "    <tr>\n",
       "      <th>3</th>\n",
       "      <td>1901</td>\n",
       "      <td>Terrible Teddy, the Grizzly King</td>\n",
       "      <td>American</td>\n",
       "      <td>Unknown</td>\n",
       "      <td>NaN</td>\n",
       "      <td>unknown</td>\n",
       "      <td>https://en.wikipedia.org/wiki/Terrible_Teddy,_...</td>\n",
       "      <td>Lasting just 61 seconds and consisting of two ...</td>\n",
       "    </tr>\n",
       "    <tr>\n",
       "      <th>4</th>\n",
       "      <td>1902</td>\n",
       "      <td>Jack and the Beanstalk</td>\n",
       "      <td>American</td>\n",
       "      <td>George S. Fleming, Edwin S. Porter</td>\n",
       "      <td>NaN</td>\n",
       "      <td>unknown</td>\n",
       "      <td>https://en.wikipedia.org/wiki/Jack_and_the_Bea...</td>\n",
       "      <td>The earliest known adaptation of the classic f...</td>\n",
       "    </tr>\n",
       "  </tbody>\n",
       "</table>\n",
       "</div>"
      ],
      "text/plain": [
       "   Release Year                             Title Origin/Ethnicity  \\\n",
       "0          1901            Kansas Saloon Smashers         American   \n",
       "1          1901     Love by the Light of the Moon         American   \n",
       "2          1901           The Martyred Presidents         American   \n",
       "3          1901  Terrible Teddy, the Grizzly King         American   \n",
       "4          1902            Jack and the Beanstalk         American   \n",
       "\n",
       "                             Director Cast    Genre  \\\n",
       "0                             Unknown  NaN  unknown   \n",
       "1                             Unknown  NaN  unknown   \n",
       "2                             Unknown  NaN  unknown   \n",
       "3                             Unknown  NaN  unknown   \n",
       "4  George S. Fleming, Edwin S. Porter  NaN  unknown   \n",
       "\n",
       "                                           Wiki Page  \\\n",
       "0  https://en.wikipedia.org/wiki/Kansas_Saloon_Sm...   \n",
       "1  https://en.wikipedia.org/wiki/Love_by_the_Ligh...   \n",
       "2  https://en.wikipedia.org/wiki/The_Martyred_Pre...   \n",
       "3  https://en.wikipedia.org/wiki/Terrible_Teddy,_...   \n",
       "4  https://en.wikipedia.org/wiki/Jack_and_the_Bea...   \n",
       "\n",
       "                                                Plot  \n",
       "0  A bartender is working at a saloon, serving dr...  \n",
       "1  The moon, painted with a smiling face hangs ov...  \n",
       "2  The film, just over a minute long, is composed...  \n",
       "3  Lasting just 61 seconds and consisting of two ...  \n",
       "4  The earliest known adaptation of the classic f...  "
      ]
     },
     "execution_count": 5,
     "metadata": {},
     "output_type": "execute_result"
    }
   ],
   "source": [
    "data.head()"
   ]
  },
  {
   "cell_type": "code",
   "execution_count": 6,
   "metadata": {
    "collapsed": false
   },
   "outputs": [
    {
     "data": {
      "text/plain": [
       "0    A bartender is working at a saloon, serving dr...\n",
       "1    The moon, painted with a smiling face hangs ov...\n",
       "2    The film, just over a minute long, is composed...\n",
       "3    Lasting just 61 seconds and consisting of two ...\n",
       "4    The earliest known adaptation of the classic f...\n",
       "Name: Plot, dtype: object"
      ]
     },
     "execution_count": 6,
     "metadata": {},
     "output_type": "execute_result"
    }
   ],
   "source": [
    "data.Plot.head()"
   ]
  },
  {
   "cell_type": "code",
   "execution_count": 7,
   "metadata": {
    "collapsed": false
   },
   "outputs": [
    {
     "data": {
      "text/plain": [
       "34886"
      ]
     },
     "execution_count": 7,
     "metadata": {},
     "output_type": "execute_result"
    }
   ],
   "source": [
    "len(data)"
   ]
  },
  {
   "cell_type": "markdown",
   "metadata": {},
   "source": [
    "We are only interested in the `Plot` column so we'll create a new dataframe containing only the relevant data."
   ]
  },
  {
   "cell_type": "code",
   "execution_count": 8,
   "metadata": {
    "collapsed": false
   },
   "outputs": [],
   "source": [
    "plot_data = data['Plot']"
   ]
  },
  {
   "cell_type": "markdown",
   "metadata": {},
   "source": [
    "Let's now run the LDA model."
   ]
  },
  {
   "cell_type": "markdown",
   "metadata": {},
   "source": [
    "First preprocess the data so that it is tokenized and cleaned."
   ]
  },
  {
   "cell_type": "code",
   "execution_count": 9,
   "metadata": {
    "collapsed": false
   },
   "outputs": [],
   "source": [
    "preprocessed_data = [preprocess_text(plot) for plot in plot_data]"
   ]
  },
  {
   "cell_type": "markdown",
   "metadata": {},
   "source": [
    "We now build a dictionary. It gives a numerical id to every word in our dataset."
   ]
  },
  {
   "cell_type": "code",
   "execution_count": 11,
   "metadata": {
    "collapsed": false
   },
   "outputs": [],
   "source": [
    "dictionary = corpora.Dictionary(preprocessed_data)"
   ]
  },
  {
   "cell_type": "markdown",
   "metadata": {},
   "source": [
    "And finally, we build a corpus bag-of-words-style."
   ]
  },
  {
   "cell_type": "code",
   "execution_count": 12,
   "metadata": {
    "collapsed": true
   },
   "outputs": [],
   "source": [
    "corpus = [dictionary.doc2bow(text) for text in preprocessed_data]"
   ]
  },
  {
   "cell_type": "markdown",
   "metadata": {},
   "source": [
    "Let's now run the LDA model and print out the topics."
   ]
  },
  {
   "cell_type": "code",
   "execution_count": 13,
   "metadata": {
    "collapsed": false
   },
   "outputs": [],
   "source": [
    "lda_model = models.LdaModel(corpus = corpus, num_topics = 10, id2word = dictionary, random_state = 42)"
   ]
  },
  {
   "cell_type": "code",
   "execution_count": 15,
   "metadata": {
    "collapsed": false
   },
   "outputs": [
    {
     "name": "stdout",
     "output_type": "stream",
     "text": [
      "0.075*\".\" + 0.068*\",\" + 0.018*\"'s\" + 0.014*\"(\" + 0.014*\")\" + 0.012*\"raja\" + 0.004*\"get\" + 0.004*\"money\" + 0.004*\"back\" + 0.003*\"gets\"\n",
      "0.085*\",\" + 0.057*\".\" + 0.021*\"'s\" + 0.012*\")\" + 0.011*\"(\" + 0.008*\"police\" + 0.005*\"team\" + 0.004*\"kim\" + 0.004*\"gang\" + 0.003*\"one\"\n",
      "0.042*\")\" + 0.042*\"(\" + 0.022*\",\" + 0.019*\".\" + 0.009*\"raju\" + 0.009*\"'s\" + 0.008*\"radha\" + 0.007*\"shiva\" + 0.006*\"kumar\" + 0.005*\"rahul\"\n",
      "0.074*\".\" + 0.048*\",\" + 0.020*\"(\" + 0.019*\")\" + 0.018*\"'s\" + 0.005*\"priya\" + 0.005*\"ravi\" + 0.003*\"kill\" + 0.003*\"babu\" + 0.003*\"lakshmi\"\n",
      "0.091*\".\" + 0.088*\",\" + 0.019*\"'s\" + 0.006*\"police\" + 0.005*\"house\" + 0.005*\"tells\" + 0.004*\"one\" + 0.004*\"man\" + 0.004*\"car\" + 0.003*\"later\"\n",
      "0.096*\",\" + 0.067*\".\" + 0.014*\"'s\" + 0.004*\")\" + 0.004*\"(\" + 0.003*\"one\" + 0.003*\"group\" + 0.003*\"war\" + 0.002*\"battle\" + 0.002*\"killed\"\n",
      "0.082*\",\" + 0.068*\".\" + 0.020*\"'s\" + 0.009*\")\" + 0.007*\"(\" + 0.007*\"father\" + 0.007*\"family\" + 0.007*\"son\" + 0.007*\"king\" + 0.005*\"mother\"\n",
      "0.067*\",\" + 0.059*\".\" + 0.011*\"'s\" + 0.005*\"back\" + 0.004*\")\" + 0.004*\"(\" + 0.003*\"sam\" + 0.003*\"one\" + 0.003*\"find\" + 0.003*\"ash\"\n",
      "0.066*\",\" + 0.063*\".\" + 0.013*\"'s\" + 0.013*\"``\" + 0.012*\"''\" + 0.009*\"film\" + 0.007*\")\" + 0.006*\"]\" + 0.006*\"[\" + 0.005*\"(\"\n",
      "0.082*\".\" + 0.076*\",\" + 0.026*\"(\" + 0.025*\")\" + 0.016*\"'s\" + 0.008*\"love\" + 0.006*\"father\" + 0.005*\"life\" + 0.005*\"family\" + 0.004*\"one\"\n"
     ]
    }
   ],
   "source": [
    "for idx, topic in lda_model.print_topics(-1):\n",
    "    print(topic)"
   ]
  },
  {
   "cell_type": "markdown",
   "metadata": {},
   "source": [
    "What do you notice? What do we need to do first?\n",
    "\n",
    "Go back to the `preprocess_text` function and think what you could change to get better topics?"
   ]
  },
  {
   "cell_type": "code",
   "execution_count": 20,
   "metadata": {
    "collapsed": false
   },
   "outputs": [
    {
     "name": "stdout",
     "output_type": "stream",
     "text": [
      "0.008*\"family\" + 0.008*\"love\" + 0.008*\"father\" + 0.007*\"mother\" + 0.007*\"life\" + 0.005*\"one\" + 0.005*\"son\" + 0.004*\"also\" + 0.004*\"day\" + 0.004*\"wife\"\n",
      "0.009*\"love\" + 0.006*\"father\" + 0.005*\"get\" + 0.004*\"vijay\" + 0.004*\"marriage\" + 0.004*\"also\" + 0.004*\"married\" + 0.004*\"friend\" + 0.004*\"tells\" + 0.004*\"family\"\n",
      "0.008*\"house\" + 0.006*\"back\" + 0.006*\"mother\" + 0.005*\"one\" + 0.005*\"tells\" + 0.005*\"love\" + 0.005*\"day\" + 0.005*\"girl\" + 0.004*\"home\" + 0.004*\"goes\"\n",
      "0.010*\"village\" + 0.006*\"son\" + 0.006*\"father\" + 0.006*\"king\" + 0.006*\"rao\" + 0.004*\"love\" + 0.004*\"one\" + 0.004*\"family\" + 0.004*\"arjun\" + 0.004*\"kill\"\n",
      "0.004*\"one\" + 0.004*\"life\" + 0.003*\"body\" + 0.003*\"death\" + 0.003*\"time\" + 0.003*\"anna\" + 0.003*\"father\" + 0.003*\"woman\" + 0.003*\"later\" + 0.002*\"people\"\n",
      "0.018*\"police\" + 0.006*\"kill\" + 0.006*\"gang\" + 0.006*\"killed\" + 0.005*\"one\" + 0.004*\"murder\" + 0.004*\"man\" + 0.004*\"officer\" + 0.004*\"kills\" + 0.004*\"case\"\n",
      "0.007*\"film\" + 0.005*\"one\" + 0.003*\"people\" + 0.003*\"hari\" + 0.003*\"two\" + 0.003*\"also\" + 0.002*\"sasha\" + 0.002*\"group\" + 0.002*\"video\" + 0.002*\"story\"\n",
      "0.007*\"school\" + 0.005*\"money\" + 0.005*\"one\" + 0.005*\"get\" + 0.004*\"father\" + 0.004*\"friends\" + 0.004*\"film\" + 0.004*\"new\" + 0.004*\"team\" + 0.004*\"gets\"\n",
      "0.004*\"war\" + 0.004*\"one\" + 0.004*\"battle\" + 0.003*\"army\" + 0.003*\"world\" + 0.003*\"japanese\" + 0.003*\"raj\" + 0.003*\"two\" + 0.003*\"ship\" + 0.003*\"attack\"\n",
      "0.013*\"raja\" + 0.006*\"radha\" + 0.004*\"back\" + 0.004*\"find\" + 0.003*\"david\" + 0.003*\"one\" + 0.003*\"finds\" + 0.003*\"away\" + 0.003*\"later\" + 0.003*\"escape\"\n"
     ]
    }
   ],
   "source": [
    "preprocessed_data = [preprocess_text(plot) for plot in plot_data]\n",
    "dictionary = corpora.Dictionary(preprocessed_data)\n",
    "corpus = [dictionary.doc2bow(text) for text in preprocessed_data]\n",
    "lda_model = models.LdaModel(corpus = corpus, num_topics = 10, id2word = dictionary, random_state = 42)\n",
    "for idx, topic in lda_model.print_topics(-1):\n",
    "    print(topic)"
   ]
  },
  {
   "cell_type": "code",
   "execution_count": 24,
   "metadata": {
    "collapsed": false
   },
   "outputs": [
    {
     "name": "stdout",
     "output_type": "stream",
     "text": [
      "0.004*\"one\" + 0.004*\"alien\" + 0.004*\"godzilla\" + 0.004*\"kill\" + 0.004*\"use\" + 0.003*\"take\" + 0.003*\"back\" + 0.003*\"get\" + 0.003*\"fli\" + 0.003*\"space\"\n",
      "0.011*\"raja\" + 0.009*\"get\" + 0.007*\"money\" + 0.007*\"polic\" + 0.006*\"raju\" + 0.006*\"famili\" + 0.006*\"find\" + 0.005*\"take\" + 0.005*\"father\" + 0.005*\"meet\"\n",
      "0.008*\"find\" + 0.005*\"back\" + 0.005*\"kill\" + 0.005*\"one\" + 0.004*\"use\" + 0.004*\"bodi\" + 0.004*\"take\" + 0.004*\"attack\" + 0.004*\"tri\" + 0.004*\"see\"\n",
      "0.020*\"kill\" + 0.016*\"polic\" + 0.009*\"rao\" + 0.008*\"gang\" + 0.008*\"get\" + 0.006*\"murder\" + 0.006*\"take\" + 0.006*\"find\" + 0.006*\"one\" + 0.005*\"escap\"\n",
      "0.007*\"love\" + 0.006*\"get\" + 0.006*\"day\" + 0.006*\"friend\" + 0.005*\"tell\" + 0.005*\"one\" + 0.005*\"find\" + 0.005*\"famili\" + 0.005*\"home\" + 0.005*\"mother\"\n",
      "0.014*\"love\" + 0.010*\"marri\" + 0.009*\"father\" + 0.007*\"famili\" + 0.006*\"son\" + 0.006*\"daughter\" + 0.005*\"villag\" + 0.005*\"come\" + 0.005*\"marriag\" + 0.005*\"get\"\n",
      "0.010*\"get\" + 0.009*\"friend\" + 0.008*\"school\" + 0.008*\"father\" + 0.007*\"love\" + 0.006*\"girl\" + 0.006*\"student\" + 0.005*\"life\" + 0.005*\"becom\" + 0.005*\"make\"\n",
      "0.009*\"get\" + 0.009*\"film\" + 0.005*\"play\" + 0.005*\"day\" + 0.005*\"karthik\" + 0.004*\"find\" + 0.004*\"take\" + 0.004*\"one\" + 0.004*\"friend\" + 0.004*\"movi\"\n",
      "0.011*\"villag\" + 0.007*\"kill\" + 0.005*\"film\" + 0.005*\"raj\" + 0.004*\"one\" + 0.004*\"fight\" + 0.004*\"take\" + 0.004*\"armi\" + 0.004*\"peopl\" + 0.003*\"life\"\n",
      "0.008*\"kill\" + 0.004*\"rama\" + 0.004*\"forc\" + 0.004*\"offic\" + 0.003*\"one\" + 0.003*\"find\" + 0.003*\"order\" + 0.003*\"use\" + 0.003*\"terrorist\" + 0.003*\"take\"\n"
     ]
    }
   ],
   "source": [
    "lda_model = run_lda_model(plot_data)"
   ]
  },
  {
   "cell_type": "code",
   "execution_count": null,
   "metadata": {
    "collapsed": true
   },
   "outputs": [],
   "source": []
  }
 ],
 "metadata": {
  "kernelspec": {
   "display_name": "Python 3",
   "language": "python",
   "name": "python3"
  },
  "language_info": {
   "codemirror_mode": {
    "name": "ipython",
    "version": 3
   },
   "file_extension": ".py",
   "mimetype": "text/x-python",
   "name": "python",
   "nbconvert_exporter": "python",
   "pygments_lexer": "ipython3",
   "version": "3.4.5"
  }
 },
 "nbformat": 4,
 "nbformat_minor": 2
}
